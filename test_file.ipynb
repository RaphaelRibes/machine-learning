{
 "cells": [
  {
   "cell_type": "code",
   "execution_count": 1,
   "id": "2e9e3ef0",
   "metadata": {},
   "outputs": [],
   "source": [
    "import pandas as pd\n",
    "from gensim.models import Word2Vec\n",
    "import nltk\n",
    "import re\n",
    "from nltk import word_tokenize, pos_tag\n",
    "from nltk.corpus import words\n",
    "from nltk.stem import WordNetLemmatizer\n",
    "from nltk.corpus import wordnet\n",
    "import enchant\n",
    "import numpy as np\n",
    "from collections import Counter\n",
    "import seaborn as sns\n",
    "\n",
    "\n",
    "from sklearn.feature_extraction.text import TfidfVectorizer\n",
    "from sklearn.model_selection import train_test_split\n",
    "from imblearn.over_sampling import SMOTE\n",
    "import random\n",
    "from sklearn.model_selection import KFold\n",
    "\n",
    "\n",
    "\n",
    "from sklearn.ensemble import RandomForestClassifier\n",
    "from sklearn.svm import SVC\n",
    "from sklearn.metrics import classification_report, accuracy_score\n",
    "from sklearn.model_selection import cross_val_score\n",
    "\n",
    "from sklearn.decomposition import PCA\n",
    "import matplotlib.pyplot as plt\n",
    "from sklearn.manifold import TSNE\n",
    "\n",
    "import emoji\n",
    "from scipy.sparse import hstack\n",
    "from sklearn.linear_model import LogisticRegression\n",
    "from nltk.corpus import stopwords\n",
    "\n",
    "\n",
    "\n",
    "#nltk.download('punkt_tab')\n",
    "#nltk.download(\"words\")\n",
    "#nltk.download('wordnet')\n",
    "#nltk.download('averaged_perceptron_tagger_eng')\n",
    "#%matplotlib qt\n",
    "#nltk.download('stopwords')\n",
    "%matplotlib inline\n"
   ]
  },
  {
   "cell_type": "code",
   "execution_count": 3,
   "id": "30931a64",
   "metadata": {},
   "outputs": [],
   "source": [
    "df = pd.read_csv(\"scitweets_export.tsv\", sep = \"\\t\")"
   ]
  },
  {
   "cell_type": "code",
   "execution_count": 9,
   "id": "5ae115d7",
   "metadata": {},
   "outputs": [
    {
     "name": "stdout",
     "output_type": "stream",
     "text": [
      "accuracy: [0.71929825 0.73684211 0.83333333 0.79824561 0.76315789 0.75438596\n",
      " 0.83333333 0.81578947 0.78070175 0.8245614 ]\n",
      "Moyenne: 0.7859649122807018\n",
      "---------------------------------------------------------------------------------\n",
      "\n",
      "F1 scores: [0.30434783 0.34782609 0.6779661  0.61016949 0.52631579 0.51724138\n",
      " 0.74666667 0.69565217 0.62686567 0.6875    ]\n",
      "Moyenne: 0.5740551187269347\n"
     ]
    }
   ],
   "source": [
    "from sklearn.model_selection import train_test_split\n",
    "from sklearn.feature_extraction.text import TfidfVectorizer\n",
    "from sklearn.ensemble import RandomForestClassifier\n",
    "from sklearn.pipeline import Pipeline\n",
    "from sklearn.metrics import classification_report, confusion_matrix\n",
    "from imblearn.over_sampling import SMOTE\n",
    "from imblearn.pipeline import Pipeline as ImbPipeline\n",
    "\n",
    "\n",
    "#X_train, X_test, y_train, y_test = train_test_split(list(df[\"text\"]), list(df[\"science_related\"]), test_size=0.2, random_state=42)\n",
    "\n",
    "# Création du pipeline\n",
    "pipeline = ImbPipeline([\n",
    "    ('vectorizer', TfidfVectorizer()),\n",
    "    ('smote', SMOTE(random_state=42)),\n",
    "    ('classifier', RandomForestClassifier(class_weight='balanced', random_state=42))\n",
    "])\n",
    "\n",
    "scores = cross_val_score(pipeline, list(df[\"text\"]), list(df[\"science_related\"]), cv=10, scoring='accuracy')\n",
    "print(\"accuracy:\", scores)\n",
    "print(\"Moyenne:\", scores.mean())\n",
    "print(\"---------------------------------------------------------------------------------\\n\")\n",
    "scores = cross_val_score(pipeline, list(df[\"text\"]), list(df[\"science_related\"]), cv=10, scoring='f1')\n",
    "print(\"F1 scores:\", scores)\n",
    "print(\"Moyenne:\", scores.mean())"
   ]
  },
  {
   "cell_type": "code",
   "execution_count": null,
   "id": "145aa40a",
   "metadata": {},
   "outputs": [],
   "source": []
  }
 ],
 "metadata": {
  "kernelspec": {
   "display_name": "Python 3 (ipykernel)",
   "language": "python",
   "name": "python3"
  },
  "language_info": {
   "codemirror_mode": {
    "name": "ipython",
    "version": 3
   },
   "file_extension": ".py",
   "mimetype": "text/x-python",
   "name": "python",
   "nbconvert_exporter": "python",
   "pygments_lexer": "ipython3",
   "version": "3.8.10"
  }
 },
 "nbformat": 4,
 "nbformat_minor": 5
}
