{
 "cells": [
  {
   "metadata": {},
   "cell_type": "markdown",
   "source": "# Groupe 3 : Projet Machine Learning",
   "id": "1581c0c09fb635a9"
  },
  {
   "metadata": {},
   "cell_type": "markdown",
   "source": "## Introduction",
   "id": "d8dc866d014797b1"
  },
  {
   "metadata": {
    "ExecuteTime": {
     "end_time": "2025-03-03T10:01:25.658343Z",
     "start_time": "2025-03-03T10:01:25.458367Z"
    }
   },
   "cell_type": "code",
   "source": [
    "import pandas as pd\n",
    "import numpy as np\n",
    "import matplotlib.pyplot as plt\n",
    "import seaborn as sns\n",
    "import sklearn as sk"
   ],
   "id": "4fed691c69e344e6",
   "outputs": [],
   "execution_count": 2
  },
  {
   "metadata": {},
   "cell_type": "markdown",
   "source": "## Prétraitement",
   "id": "da9b469664d2c318"
  },
  {
   "metadata": {},
   "cell_type": "code",
   "outputs": [],
   "execution_count": null,
   "source": "",
   "id": "b53236af5e7f5fc8"
  },
  {
   "metadata": {},
   "cell_type": "markdown",
   "source": "## Choix des modèles",
   "id": "6595339af79426d6"
  },
  {
   "metadata": {},
   "cell_type": "code",
   "outputs": [],
   "execution_count": null,
   "source": "",
   "id": "d5aa4c36f7838737"
  },
  {
   "metadata": {},
   "cell_type": "markdown",
   "source": "",
   "id": "bbccb86184b486ba"
  }
 ],
 "metadata": {
  "kernelspec": {
   "display_name": "Python 3",
   "language": "python",
   "name": "python3"
  },
  "language_info": {
   "codemirror_mode": {
    "name": "ipython",
    "version": 2
   },
   "file_extension": ".py",
   "mimetype": "text/x-python",
   "name": "python",
   "nbconvert_exporter": "python",
   "pygments_lexer": "ipython2",
   "version": "2.7.6"
  }
 },
 "nbformat": 4,
 "nbformat_minor": 5
}
