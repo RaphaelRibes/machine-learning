{
 "cells": [
  {
   "cell_type": "markdown",
   "id": "be9258fe",
   "metadata": {},
   "source": [
    "# ML projet - Groupe 3"
   ]
  },
  {
   "cell_type": "code",
   "execution_count": null,
   "id": "33b691a8",
   "metadata": {},
   "outputs": [],
   "source": []
  },
  {
   "cell_type": "code",
   "execution_count": null,
   "id": "176f2932",
   "metadata": {},
   "outputs": [],
   "source": []
  },
  {
   "cell_type": "markdown",
   "id": "5c7e69b8",
   "metadata": {},
   "source": [
    "# Pretraitement"
   ]
  },
  {
   "cell_type": "code",
   "execution_count": 137,
   "id": "7e670a9b",
   "metadata": {},
   "outputs": [],
   "source": [
    "import pandas as pd\n",
    "from gensim.models import Word2Vec\n",
    "import nltk\n",
    "import re\n",
    "from nltk import word_tokenize, pos_tag\n",
    "from nltk.corpus import words\n",
    "from nltk.stem import WordNetLemmatizer\n",
    "from nltk.corpus import wordnet\n",
    "import enchant\n",
    "import numpy as np\n",
    "from collections import Counter\n",
    "import seaborn as sns\n",
    "\n",
    "\n",
    "from sklearn.feature_extraction.text import TfidfVectorizer\n",
    "from sklearn.model_selection import train_test_split\n",
    "from imblearn.over_sampling import SMOTE\n",
    "import random\n",
    "from sklearn.model_selection import KFold\n",
    "\n",
    "\n",
    "\n",
    "from sklearn.ensemble import RandomForestClassifier\n",
    "from sklearn.svm import SVC\n",
    "from sklearn.metrics import classification_report, accuracy_score\n",
    "from sklearn.model_selection import cross_val_score\n",
    "\n",
    "from sklearn.decomposition import PCA\n",
    "import matplotlib.pyplot as plt\n",
    "from sklearn.manifold import TSNE\n",
    "\n",
    "import emoji\n",
    "\n",
    "\n",
    "#nltk.download('punkt_tab')\n",
    "#nltk.download(\"words\")\n",
    "#nltk.download('wordnet')\n",
    "#nltk.download('averaged_perceptron_tagger_eng')\n",
    "#%matplotlib qt\n",
    "%matplotlib inline"
   ]
  },
  {
   "cell_type": "code",
   "execution_count": 138,
   "id": "8b05a6f0",
   "metadata": {},
   "outputs": [],
   "source": [
    "df = pd.read_csv(\"scitweets_export.tsv\", sep = \"\\t\")"
   ]
  },
  {
   "cell_type": "code",
   "execution_count": 139,
   "id": "01c83bfe",
   "metadata": {},
   "outputs": [
    {
     "data": {
      "text/plain": [
       "0.6710526315789473"
      ]
     },
     "execution_count": 139,
     "metadata": {},
     "output_type": "execute_result"
    }
   ],
   "source": [
    "len(df[df[\"science_related\"] == 0])/(len(df))"
   ]
  },
  {
   "cell_type": "markdown",
   "id": "706f152b",
   "metadata": {},
   "source": [
    "### Enlever (.,\\\\@#:';\"“”’[]), les chiffres et les liens (http) de chaque tweet"
   ]
  },
  {
   "cell_type": "code",
   "execution_count": 140,
   "id": "b1c68b92",
   "metadata": {},
   "outputs": [],
   "source": [
    "text = []\n",
    "all_text = list(df[\"text\"])\n",
    "for t in all_text:\n",
    "    a = re.sub(\"[\\.,/\\\\@:;\\\"\\'0-9“”’\\[\\]]\", \" \\1 \", t)\n",
    "    a = re.sub(\"http\\S*\", \"\", a) #Enlever les liens\n",
    "    a = re.sub(\"#\\S*\", \"\", a) #Enlever les tags\n",
    "    a = a.lower()\n",
    "    text.append(a)\n",
    "#for sentence in text:  "
   ]
  },
  {
   "cell_type": "code",
   "execution_count": 141,
   "id": "d983e1ba",
   "metadata": {},
   "outputs": [],
   "source": [
    "#Créer une liste des phrases ou chaque phrase est une liste de mots.\n",
    "text_sep = [word_tokenize(t) for t in text]"
   ]
  },
  {
   "cell_type": "code",
   "execution_count": 142,
   "id": "9bb06303",
   "metadata": {},
   "outputs": [
    {
     "data": {
      "text/plain": [
       "['whats', 'the', 'uber', 'support', 'team', 'email', 'address', '?']"
      ]
     },
     "execution_count": 142,
     "metadata": {},
     "output_type": "execute_result"
    }
   ],
   "source": [
    "#len(text_sep)\n",
    "text_sep[-3]"
   ]
  },
  {
   "cell_type": "markdown",
   "id": "d9c733d5",
   "metadata": {},
   "source": [
    "## Standardizer chaque phrases. \n",
    "- Convertir les noms pluriels en leur forme singuliers\n",
    "- Convertir les conjugaison de chaque verbe en leur infinitif\n",
    "- Standardiser les ajectives et les adverbes"
   ]
  },
  {
   "cell_type": "code",
   "execution_count": 143,
   "id": "1dff66df",
   "metadata": {},
   "outputs": [],
   "source": [
    "def get_wordnet_pos(tag):\n",
    "    if tag.startswith('J'):  # Adjectif\n",
    "        return wordnet.ADJ\n",
    "    elif tag.startswith('V'):  # Verbe\n",
    "        return wordnet.VERB\n",
    "    elif tag.startswith('N'):  # Nom\n",
    "        return wordnet.NOUN\n",
    "    elif tag.startswith('R'):  # Adverbe\n",
    "        return wordnet.ADV\n",
    "    else:\n",
    "        return wordnet.NOUN \n",
    "\n",
    "    \n",
    "lemmatizer = WordNetLemmatizer()\n",
    "refined_tweets = []\n",
    "for tweet in text_sep:\n",
    "    pos_tags = pos_tag(tweet)\n",
    "    lemmatized_words = [lemmatizer.lemmatize(word, get_wordnet_pos(tag)) for word, tag in pos_tags]\n",
    "    refined_tweets.append(lemmatized_words)\n",
    "\n"
   ]
  },
  {
   "cell_type": "markdown",
   "id": "8f9a5a6b",
   "metadata": {},
   "source": [
    "## Laisser une trace pour les emojis"
   ]
  },
  {
   "cell_type": "code",
   "execution_count": 144,
   "id": "5107bc83",
   "metadata": {},
   "outputs": [],
   "source": [
    "emoji_list = []\n",
    "has_emoji = False \n",
    "for sentence in refined_tweets:\n",
    "    has_emoji = False\n",
    "    for word in sentence:\n",
    "        for char in word:\n",
    "            if emoji.is_emoji(char):\n",
    "                has_emoji = True\n",
    "                break\n",
    "    if has_emoji is True:\n",
    "        emoji_list.append(1)\n",
    "    else:\n",
    "        emoji_list.append(0)\n",
    "df[\"has_emoji\"] = emoji_list"
   ]
  },
  {
   "cell_type": "code",
   "execution_count": 145,
   "id": "34a296f3",
   "metadata": {},
   "outputs": [],
   "source": [
    "def remake_sentences(sentence_list):\n",
    "    sentence_join = []\n",
    "    phrase = \"\"\n",
    "    for sentence in sentence_list:\n",
    "        for word in sentence:\n",
    "            phrase = phrase + word + \" \"\n",
    "        sentence_join.append(phrase)\n",
    "        phrase = \"\"\n",
    "    return(sentence_join)"
   ]
  },
  {
   "cell_type": "code",
   "execution_count": 146,
   "id": "305adc88",
   "metadata": {},
   "outputs": [],
   "source": [
    "def plot_word_distribution(word_list):\n",
    "    word_list_flat = [word for sublist in word_list for word in sublist]\n",
    "    word_counts = Counter(word_list_flat)\n",
    "    # 3. Afficher les 10 mots les plus fréquents (optionnel)\n",
    "    most_common = word_counts.most_common(100)\n",
    "    #print(most_common[0:10])\n",
    "    words, counts = zip(*most_common)\n",
    "    \n",
    "    # 4. Tracer avec seaborn\n",
    "    #plt.figure(figsize=(30, 12))\n",
    "    plt.figure(figsize=(16, 8)).gca()\n",
    "    sns.barplot(x=list(words), y=list(counts))\n",
    "    plt.title(\"Distribution des mots\")\n",
    "    plt.ylabel(\"Nombre d'occurrences\")\n",
    "    plt.xlabel(\"Mots\")\n",
    "    plt.xticks(rotation=45)\n",
    "    plt.tight_layout()\n",
    "    plt.show()\n"
   ]
  },
  {
   "cell_type": "code",
   "execution_count": 147,
   "id": "fc49ab27",
   "metadata": {},
   "outputs": [
    {
     "name": "stderr",
     "output_type": "stream",
     "text": [
      "/home/cm/.local/lib/python3.8/site-packages/matplotlib/backends/backend_agg.py:238: RuntimeWarning: Glyph 1 missing from current font.\n",
      "  font.set_text(s, 0.0, flags=flags)\n",
      "/home/cm/.local/lib/python3.8/site-packages/matplotlib/backends/backend_agg.py:201: RuntimeWarning: Glyph 1 missing from current font.\n",
      "  font.set_text(s, 0, flags=flags)\n"
     ]
    },
    {
     "data": {
      "image/png": "[encoded data removed]",
      "text/plain": [
       "<Figure size 1152x576 with 1 Axes>"
      ]
     },
     "metadata": {
      "needs_background": "light"
     },
     "output_type": "display_data"
    }
   ],
   "source": [
    "plot_word_distribution(refined_tweets)"
   ]
  },
  {
   "cell_type": "code",
   "execution_count": 148,
   "id": "0584e171",
   "metadata": {},
   "outputs": [],
   "source": [
    "mots_a_supprimer = [\"the\", \"to\", \"a\", \"of\", \"and\", \"in\", \"for\", \"on\", \"this\", \n",
    "                    \"with\", \"that\", \"have\", \"by\", \"it\", \"from\", \"be\", \"do\", \n",
    "                    \"t\", \" \", \"to\", \"\\x01\", \"co\", \"no\", \"out\", \"d\", \"our\", \"so\",\n",
    "                   \"(\", \")\", \"your\", \"but\", \"if\", \"than\", \"\\x01\"]\n",
    "\n",
    "# Supprimer toutes les occurrences de \"the\"\n",
    "filtered_words = [[word for word in row if word not in mots_a_supprimer] for row in refined_tweets]\n",
    "#filtered_words = re.sub(r\"[\\x00-\\x1F]\", filtered_words)"
   ]
  },
  {
   "cell_type": "code",
   "execution_count": 149,
   "id": "05309462",
   "metadata": {},
   "outputs": [
    {
     "data": {
      "image/png": "[encoded data removed]",
      "text/plain": [
       "<Figure size 1152x576 with 1 Axes>"
      ]
     },
     "metadata": {
      "needs_background": "light"
     },
     "output_type": "display_data"
    }
   ],
   "source": [
    "plot_word_distribution(filtered_words)"
   ]
  },
  {
   "cell_type": "code",
   "execution_count": null,
   "id": "35695a3a",
   "metadata": {},
   "outputs": [],
   "source": []
  },
  {
   "cell_type": "code",
   "execution_count": 150,
   "id": "b6ec2b36",
   "metadata": {},
   "outputs": [],
   "source": [
    "X = remake_sentences(filtered_words)  # Utiliser uniquement la colonne 'text' comme feature\n",
    "y_binary = df['science_related']  # Étiquette binaire (scientifique ou non)\n",
    "\n",
    "\n",
    "X_train, X_test, y_train, y_test = train_test_split(X, y_binary, test_size=0.2, random_state=1)\n",
    "\n",
    "vectorizer = TfidfVectorizer(ngram_range=(1, 2), max_features=100000)\n",
    "X_vec = vectorizer.fit_transform(X)  # Apprentissage et transformation sur l'entraînement\n",
    "\n",
    "X_train_vec = vectorizer.fit_transform(X_train)  # Apprentissage et transformation sur l'entraînement\n",
    "\n",
    "\n",
    "X_test_vec = vectorizer.transform(X_test)"
   ]
  },
  {
   "cell_type": "code",
   "execution_count": 151,
   "id": "e7e0dd1a",
   "metadata": {},
   "outputs": [
    {
     "data": {
      "text/plain": [
       "2128"
      ]
     },
     "execution_count": 151,
     "metadata": {},
     "output_type": "execute_result"
    }
   ],
   "source": [
    "len(X_test_vec.data)"
   ]
  },
  {
   "cell_type": "code",
   "execution_count": 152,
   "id": "73e99764",
   "metadata": {},
   "outputs": [
    {
     "name": "stdout",
     "output_type": "stream",
     "text": [
      "[[139   7]\n",
      " [ 53  29]]\n",
      "              precision    recall  f1-score   support\n",
      "\n",
      "           0       0.72      0.95      0.82       146\n",
      "           1       0.81      0.35      0.49        82\n",
      "\n",
      "    accuracy                           0.74       228\n",
      "   macro avg       0.76      0.65      0.66       228\n",
      "weighted avg       0.75      0.74      0.70       228\n",
      "\n"
     ]
    }
   ],
   "source": [
    "from sklearn.model_selection import train_test_split\n",
    "from sklearn.feature_extraction.text import TfidfVectorizer\n",
    "from sklearn.ensemble import RandomForestClassifier\n",
    "from sklearn.pipeline import Pipeline\n",
    "from sklearn.metrics import classification_report, confusion_matrix\n",
    "from imblearn.over_sampling import SMOTE\n",
    "from imblearn.pipeline import Pipeline as ImbPipeline\n",
    "\n",
    "\n",
    "X_train, X_test, y_train, y_test = train_test_split(X, y_binary, test_size=0.2, random_state=42)\n",
    "\n",
    "# Création du pipeline\n",
    "pipeline = ImbPipeline([\n",
    "    ('vectorizer', TfidfVectorizer()),\n",
    "    ('smote', SMOTE(random_state=42)),\n",
    "    ('classifier', RandomForestClassifier(class_weight='balanced', random_state=42))\n",
    "])\n",
    "\n",
    "# Entraînement\n",
    "pipeline.fit(X_train, y_train)\n",
    "\n",
    "# Prédiction\n",
    "y_pred = pipeline.predict(X_test)\n",
    "\n",
    "# Évaluation\n",
    "print(confusion_matrix(y_test, y_pred))\n",
    "print(classification_report(y_test, y_pred))"
   ]
  },
  {
   "cell_type": "code",
   "execution_count": 153,
   "id": "f4bb4b06",
   "metadata": {},
   "outputs": [
    {
     "name": "stdout",
     "output_type": "stream",
     "text": [
      "F1 scores: [0.31914894 0.60504202 0.4957265  0.70072993 0.63865546]\n",
      "Moyenne: 0.5518605675791208\n"
     ]
    }
   ],
   "source": [
    "from sklearn.model_selection import train_test_split\n",
    "from sklearn.feature_extraction.text import TfidfVectorizer\n",
    "from sklearn.ensemble import RandomForestClassifier\n",
    "from sklearn.pipeline import Pipeline\n",
    "from sklearn.metrics import classification_report, confusion_matrix\n",
    "from imblearn.over_sampling import SMOTE\n",
    "from imblearn.pipeline import Pipeline as ImbPipeline\n",
    "\n",
    "\n",
    "#X_train, X_test, y_train, y_test = train_test_split(list(df[\"text\"]), list(df[\"science_related\"]), test_size=0.2, random_state=42)\n",
    "\n",
    "# Création du pipeline\n",
    "pipeline = ImbPipeline([\n",
    "    ('vectorizer', TfidfVectorizer()),\n",
    "    ('smote', SMOTE(random_state=42)),\n",
    "    ('classifier', RandomForestClassifier(class_weight='balanced', random_state=42))\n",
    "])\n",
    "\n",
    "scores = cross_val_score(pipeline, list(df[\"text\"]), list(df[\"science_related\"]), cv=5, scoring='f1')\n",
    "print(\"F1 scores:\", scores)\n",
    "print(\"Moyenne:\", scores.mean())"
   ]
  },
  {
   "cell_type": "code",
   "execution_count": null,
   "id": "0e1e8d0c",
   "metadata": {},
   "outputs": [],
   "source": []
  },
  {
   "cell_type": "code",
   "execution_count": null,
   "id": "bf3dc55d",
   "metadata": {},
   "outputs": [],
   "source": []
  },
  {
   "cell_type": "code",
   "execution_count": null,
   "id": "bbf8dbca",
   "metadata": {},
   "outputs": [],
   "source": []
  },
  {
   "cell_type": "code",
   "execution_count": 154,
   "id": "ffb4bd27",
   "metadata": {},
   "outputs": [
    {
     "name": "stdout",
     "output_type": "stream",
     "text": [
      "[[132  14]\n",
      " [ 25  57]]\n",
      "              precision    recall  f1-score   support\n",
      "\n",
      "           0       0.84      0.90      0.87       146\n",
      "           1       0.80      0.70      0.75        82\n",
      "\n",
      "    accuracy                           0.83       228\n",
      "   macro avg       0.82      0.80      0.81       228\n",
      "weighted avg       0.83      0.83      0.83       228\n",
      "\n"
     ]
    }
   ],
   "source": [
    "from sklearn.svm import SVC\n",
    "from imblearn.pipeline import Pipeline as ImbPipeline\n",
    "from sklearn.feature_extraction.text import TfidfVectorizer\n",
    "from sklearn.model_selection import train_test_split\n",
    "from sklearn.metrics import classification_report, confusion_matrix\n",
    "from imblearn.over_sampling import SMOTE\n",
    "import pandas as pd\n",
    "\n",
    "\n",
    "X_train, X_test, y_train, y_test = train_test_split(list(df[\"text\"]), list(df[\"science_related\"]), test_size=0.2, random_state=42)\n",
    "\n",
    "# Pipeline avec SVM\n",
    "pipeline_svm = ImbPipeline([\n",
    "    ('vectorizer', TfidfVectorizer()),\n",
    "    ('smote', SMOTE(random_state=42)),\n",
    "    ('classifier', SVC(class_weight='balanced', kernel='linear', random_state=42))\n",
    "])\n",
    "\n",
    "# Entraînement\n",
    "pipeline_svm.fit(X_train, y_train)\n",
    "\n",
    "# Prédiction\n",
    "y_pred = pipeline_svm.predict(X_test)\n",
    "\n",
    "# Évaluation\n",
    "print(confusion_matrix(y_test, y_pred))\n",
    "print(classification_report(y_test, y_pred))\n"
   ]
  },
  {
   "cell_type": "code",
   "execution_count": 155,
   "id": "6e9f194b",
   "metadata": {},
   "outputs": [
    {
     "data": {
      "image/png": "[encoded data removed]",
      "text/plain": [
       "<Figure size 720x432 with 2 Axes>"
      ]
     },
     "metadata": {
      "needs_background": "light"
     },
     "output_type": "display_data"
    }
   ],
   "source": [
    "# Réduire la dimension à 2D avec PCA\n",
    "pca = PCA(n_components=2)\n",
    "X_pca = pca.fit_transform(X_vec.toarray())  # Convertir la matrice creuse en tableau dense\n",
    "\n",
    "# Visualiser les données en 2D\n",
    "plt.figure(figsize=(10, 6))\n",
    "plt.scatter(X_pca[:, 0], X_pca[:, 1], c=y_binary, cmap='viridis', alpha=0.6)\n",
    "plt.colorbar(label='science_related')\n",
    "plt.title('Visualisation des tweets vectorisés (PCA 2D)')\n",
    "plt.xlabel('Composante principale 1')\n",
    "plt.ylabel('Composante principale 2')\n",
    "\n",
    "plt.axvline(x=-0.06, color='red', linestyle='--', linewidth=2)  \n",
    "plt.axvline(x=0, color='red', linestyle='--', linewidth=2)  \n",
    "\n",
    "plt.axhline(y=0.07, color='red', linestyle='--')\n",
    "plt.axhline(y=-0.05, color='red', linestyle='--')\n",
    "\n",
    "plt.show()"
   ]
  },
  {
   "cell_type": "code",
   "execution_count": null,
   "id": "982dd57a",
   "metadata": {},
   "outputs": [],
   "source": []
  },
  {
   "cell_type": "code",
   "execution_count": 156,
   "id": "04271f20",
   "metadata": {},
   "outputs": [
    {
     "data": {
      "text/plain": [
       "1140"
      ]
     },
     "execution_count": 156,
     "metadata": {},
     "output_type": "execute_result"
    }
   ],
   "source": [
    "len(refined_tweets)"
   ]
  },
  {
   "cell_type": "code",
   "execution_count": null,
   "id": "c1018ded",
   "metadata": {},
   "outputs": [],
   "source": []
  },
  {
   "cell_type": "code",
   "execution_count": null,
   "id": "ee5748a2",
   "metadata": {},
   "outputs": [],
   "source": []
  },
  {
   "cell_type": "code",
   "execution_count": 157,
   "id": "7e3bc9e1",
   "metadata": {},
   "outputs": [],
   "source": [
    "pca_df = pd.DataFrame({\n",
    "    'pca1': X_pca[:, 0],\n",
    "    'pca2': X_pca[:, 1],\n",
    "    'label': y_binary,\n",
    "    'tweet': filtered_words  # doit être dans le même ordre que X_train\n",
    "})"
   ]
  },
  {
   "cell_type": "code",
   "execution_count": 105,
   "id": "8689dfa5",
   "metadata": {},
   "outputs": [
    {
     "name": "stdout",
     "output_type": "stream",
     "text": [
      "-0.08623697698364022 0.2517037492972924\n",
      "-0.14729107119292217 0.7191086346164846\n"
     ]
    }
   ],
   "source": [
    "print(pca_df['pca1'].min(), pca_df['pca1'].max())\n",
    "print(pca_df['pca2'].min(), pca_df['pca2'].max())"
   ]
  },
  {
   "cell_type": "code",
   "execution_count": 106,
   "id": "80aa7257",
   "metadata": {},
   "outputs": [],
   "source": [
    "zone = pca_df[\n",
    "    (pca_df['pca2'] > -0.05) & (pca_df['pca2'] < 0.07) &  # limites vertical\n",
    "    (pca_df['pca1'] > -0.06) & (pca_df['pca1'] < 0.0)    # limites horizontal\n",
    "]"
   ]
  },
  {
   "cell_type": "code",
   "execution_count": 108,
   "id": "672352df",
   "metadata": {},
   "outputs": [
    {
     "name": "stdout",
     "output_type": "stream",
     "text": [
      "446\n",
      "303\n"
     ]
    }
   ],
   "source": [
    "print(len(zone[zone[\"label\"] == 0]))\n",
    "print(len(zone[zone[\"label\"] == 1]))"
   ]
  },
  {
   "cell_type": "code",
   "execution_count": 109,
   "id": "382a5588",
   "metadata": {},
   "outputs": [],
   "source": [
    "zone.to_csv(\"pca_zone.csv\", index=False)"
   ]
  },
  {
   "cell_type": "code",
   "execution_count": 110,
   "id": "9882c0ac",
   "metadata": {},
   "outputs": [],
   "source": [
    "df[df[\"science_related\"] == 1].to_csv(\"science_related.csv\", index=False)"
   ]
  },
  {
   "cell_type": "code",
   "execution_count": null,
   "id": "ba8aa3e4",
   "metadata": {},
   "outputs": [],
   "source": []
  },
  {
   "cell_type": "code",
   "execution_count": null,
   "id": "dc2ba90e",
   "metadata": {},
   "outputs": [],
   "source": []
  },
  {
   "cell_type": "code",
   "execution_count": null,
   "id": "2ffaad1d",
   "metadata": {},
   "outputs": [],
   "source": []
  },
  {
   "cell_type": "code",
   "execution_count": 303,
   "id": "4d3a0154",
   "metadata": {},
   "outputs": [],
   "source": [
    "# Réduire la dimension à 2D avec t-SNE\n",
    "tsne = TSNE(n_components=3, random_state=42, perplexity=15)\n",
    "X_train_tsne = tsne.fit_transform(X_train_vec.toarray())\n",
    "\n",
    "# Visualiser les données en 2D\n",
    "plt.figure(figsize=(10, 6))\n",
    "plt.scatter(X_train_tsne[:, 0], X_train_tsne[:, 1], c=y_train, cmap='viridis', alpha=0.6)\n",
    "plt.colorbar(label='science_related')\n",
    "plt.title('Visualisation des tweets vectorisés (t-SNE 2D)')\n",
    "plt.xlabel('Composante t-SNE 1')\n",
    "plt.ylabel('Composante t-SNE 2')\n",
    "plt.show()"
   ]
  },
  {
   "cell_type": "code",
   "execution_count": null,
   "id": "f5ce465c",
   "metadata": {},
   "outputs": [],
   "source": []
  },
  {
   "cell_type": "code",
   "execution_count": null,
   "id": "158f911b",
   "metadata": {},
   "outputs": [],
   "source": []
  },
  {
   "cell_type": "code",
   "execution_count": null,
   "id": "56bda7aa",
   "metadata": {},
   "outputs": [],
   "source": []
  },
  {
   "cell_type": "code",
   "execution_count": null,
   "id": "fc619bb3",
   "metadata": {},
   "outputs": [],
   "source": []
  },
  {
   "cell_type": "markdown",
   "id": "e6678443",
   "metadata": {},
   "source": [
    "### Le code desous montre que 70% de mots dans les tweet sont valide (dans les dictionnaire anglais)"
   ]
  },
  {
   "cell_type": "code",
   "execution_count": null,
   "id": "fca16365",
   "metadata": {},
   "outputs": [],
   "source": []
  },
  {
   "cell_type": "code",
   "execution_count": 24,
   "id": "101d4ffe",
   "metadata": {},
   "outputs": [
    {
     "ename": "NameError",
     "evalue": "name 'model' is not defined",
     "output_type": "error",
     "traceback": [
      "\u001b[0;31m---------------------------------------------------------------------------\u001b[0m",
      "\u001b[0;31mNameError\u001b[0m                                 Traceback (most recent call last)",
      "Cell \u001b[0;32mIn[24], line 1\u001b[0m\n\u001b[0;32m----> 1\u001b[0m \u001b[38;5;28mlen\u001b[39m(\u001b[43mmodel\u001b[49m\u001b[38;5;241m.\u001b[39mwv[\u001b[38;5;124m\"\u001b[39m\u001b[38;5;124mscience\u001b[39m\u001b[38;5;124m\"\u001b[39m])\n",
      "\u001b[0;31mNameError\u001b[0m: name 'model' is not defined"
     ]
    }
   ],
   "source": [
    "len(model.wv[\"science\"])"
   ]
  },
  {
   "cell_type": "code",
   "execution_count": null,
   "id": "acc53ac2",
   "metadata": {},
   "outputs": [],
   "source": [
    "len(refined_tweets)"
   ]
  },
  {
   "cell_type": "code",
   "execution_count": null,
   "id": "099328ed",
   "metadata": {},
   "outputs": [],
   "source": [
    "s = \"a \" + \"a\"\n",
    "s+= \" b\"\n",
    "s"
   ]
  },
  {
   "cell_type": "code",
   "execution_count": null,
   "id": "4e7fbb3c",
   "metadata": {},
   "outputs": [],
   "source": []
  },
  {
   "cell_type": "code",
   "execution_count": null,
   "id": "8925abc2",
   "metadata": {},
   "outputs": [],
   "source": []
  },
  {
   "cell_type": "code",
   "execution_count": 25,
   "id": "dabc3eb9",
   "metadata": {},
   "outputs": [
    {
     "ename": "NameError",
     "evalue": "name 'model' is not defined",
     "output_type": "error",
     "traceback": [
      "\u001b[0;31m---------------------------------------------------------------------------\u001b[0m",
      "\u001b[0;31mNameError\u001b[0m                                 Traceback (most recent call last)",
      "Cell \u001b[0;32mIn[25], line 18\u001b[0m\n\u001b[1;32m     14\u001b[0m tfidf_scores \u001b[38;5;241m=\u001b[39m \u001b[38;5;28mdict\u001b[39m(\u001b[38;5;28mzip\u001b[39m(tfidf_vectorizer\u001b[38;5;241m.\u001b[39mget_feature_names_out(), tfidf_vectorizer\u001b[38;5;241m.\u001b[39midf_))\n\u001b[1;32m     16\u001b[0m \u001b[38;5;66;03m# Simulons un modèle Word2Vec où chaque mot est représenté par un vecteur de taille 200\u001b[39;00m\n\u001b[1;32m     17\u001b[0m \u001b[38;5;66;03m# (En pratique, tu utiliserais un vrai modèle Word2Vec comme gensim)\u001b[39;00m\n\u001b[0;32m---> 18\u001b[0m word2vec_model \u001b[38;5;241m=\u001b[39m \u001b[43mmodel\u001b[49m\u001b[38;5;241m.\u001b[39mwv\n\u001b[1;32m     20\u001b[0m \u001b[38;5;66;03m# Fonction pour convertir une phrase en un vecteur TF-IDF pondéré\u001b[39;00m\n\u001b[1;32m     21\u001b[0m \u001b[38;5;28;01mdef\u001b[39;00m \u001b[38;5;21msentence_to_tfidf_w2v\u001b[39m(sentence):\n",
      "\u001b[0;31mNameError\u001b[0m: name 'model' is not defined"
     ]
    }
   ],
   "source": [
    "#import numpy as np\n",
    "#from sklearn.feature_extraction.text import TfidfVectorizer\n",
    "\n",
    "# Exemple de corpus (phrases en texte brut)\n",
    "sentences = [\n",
    "    \"The scientific discovery was groundbreaking\",\n",
    "    \"Physics and chemistry are fundamental sciences\",\n",
    "    \"The research paper introduced a new concept\"\n",
    "]\n",
    "\n",
    "# Étape 1: Calculer le TF-IDF sur toutes les phrases\n",
    "tfidf_vectorizer = TfidfVectorizer()\n",
    "tfidf_matrix = tfidf_vectorizer.fit_transform(refined_tweets_join)\n",
    "tfidf_scores = dict(zip(tfidf_vectorizer.get_feature_names_out(), tfidf_vectorizer.idf_))\n",
    "\n",
    "# Simulons un modèle Word2Vec où chaque mot est représenté par un vecteur de taille 200\n",
    "# (En pratique, tu utiliserais un vrai modèle Word2Vec comme gensim)\n",
    "word2vec_model = model.wv\n",
    "\n",
    "# Fonction pour convertir une phrase en un vecteur TF-IDF pondéré\n",
    "def sentence_to_tfidf_w2v(sentence):\n",
    "    words = sentence.split()  # Tokenisation simple (mieux vaut utiliser nltk/spacy)\n",
    "    vectors = []\n",
    "    weights = []\n",
    "    \n",
    "    for word in words:\n",
    "        if word in word2vec_model and word in tfidf_scores:  # Vérifier si le mot a un vecteur\n",
    "            vectors.append(word2vec_model[word] * tfidf_scores[word])  # Pondérer par TF-IDF\n",
    "            weights.append(tfidf_scores[word])\n",
    "\n",
    "    if len(vectors) == 0:  # Si aucun mot n'a de vecteur, renvoyer un vecteur nul\n",
    "        return np.zeros(200)\n",
    "    \n",
    "    return np.sum(vectors, axis=0) / np.sum(weights)  # Moyenne pondérée\n",
    "\n",
    "# Transformer chaque phrase en un vecteur de taille 200\n",
    "X_transformed = np.array([sentence_to_tfidf_w2v(sentence) for sentence in refined_tweets_join])\n"
   ]
  },
  {
   "cell_type": "code",
   "execution_count": 26,
   "id": "64631f59",
   "metadata": {},
   "outputs": [
    {
     "ename": "NameError",
     "evalue": "name 'X_transformed' is not defined",
     "output_type": "error",
     "traceback": [
      "\u001b[0;31m---------------------------------------------------------------------------\u001b[0m",
      "\u001b[0;31mNameError\u001b[0m                                 Traceback (most recent call last)",
      "Cell \u001b[0;32mIn[26], line 1\u001b[0m\n\u001b[0;32m----> 1\u001b[0m \u001b[38;5;28mlen\u001b[39m(\u001b[43mX_transformed\u001b[49m)\n",
      "\u001b[0;31mNameError\u001b[0m: name 'X_transformed' is not defined"
     ]
    }
   ],
   "source": [
    "len(X_transformed)"
   ]
  },
  {
   "cell_type": "code",
   "execution_count": 27,
   "id": "41b21a85",
   "metadata": {},
   "outputs": [
    {
     "data": {
      "text/html": [
       "<div>\n",
       "<style scoped>\n",
       "    .dataframe tbody tr th:only-of-type {\n",
       "        vertical-align: middle;\n",
       "    }\n",
       "\n",
       "    .dataframe tbody tr th {\n",
       "        vertical-align: top;\n",
       "    }\n",
       "\n",
       "    .dataframe thead th {\n",
       "        text-align: right;\n",
       "    }\n",
       "</style>\n",
       "<table border=\"1\" class=\"dataframe\">\n",
       "  <thead>\n",
       "    <tr style=\"text-align: right;\">\n",
       "      <th></th>\n",
       "      <th>Unnamed: 0</th>\n",
       "      <th>tweet_id</th>\n",
       "      <th>text</th>\n",
       "      <th>science_related</th>\n",
       "      <th>scientific_claim</th>\n",
       "      <th>scientific_reference</th>\n",
       "      <th>scientific_context</th>\n",
       "    </tr>\n",
       "  </thead>\n",
       "  <tbody>\n",
       "    <tr>\n",
       "      <th>0</th>\n",
       "      <td>0</td>\n",
       "      <td>316669998137483264</td>\n",
       "      <td>Knees are a bit sore. i guess that's a sign th...</td>\n",
       "      <td>0</td>\n",
       "      <td>0.0</td>\n",
       "      <td>0.0</td>\n",
       "      <td>0.0</td>\n",
       "    </tr>\n",
       "    <tr>\n",
       "      <th>1</th>\n",
       "      <td>1</td>\n",
       "      <td>319090866545385472</td>\n",
       "      <td>McDonald's breakfast stop then the gym 🏀💪</td>\n",
       "      <td>0</td>\n",
       "      <td>0.0</td>\n",
       "      <td>0.0</td>\n",
       "      <td>0.0</td>\n",
       "    </tr>\n",
       "    <tr>\n",
       "      <th>2</th>\n",
       "      <td>2</td>\n",
       "      <td>322030931022065664</td>\n",
       "      <td>Can any Gynecologist with Cancer Experience ex...</td>\n",
       "      <td>1</td>\n",
       "      <td>1.0</td>\n",
       "      <td>0.0</td>\n",
       "      <td>0.0</td>\n",
       "    </tr>\n",
       "    <tr>\n",
       "      <th>3</th>\n",
       "      <td>3</td>\n",
       "      <td>322694830620807168</td>\n",
       "      <td>Couch-lock highs lead to sleeping in the couch...</td>\n",
       "      <td>1</td>\n",
       "      <td>1.0</td>\n",
       "      <td>0.0</td>\n",
       "      <td>0.0</td>\n",
       "    </tr>\n",
       "    <tr>\n",
       "      <th>4</th>\n",
       "      <td>4</td>\n",
       "      <td>328524426658328576</td>\n",
       "      <td>Does daily routine help prevent problems with ...</td>\n",
       "      <td>1</td>\n",
       "      <td>1.0</td>\n",
       "      <td>0.0</td>\n",
       "      <td>0.0</td>\n",
       "    </tr>\n",
       "    <tr>\n",
       "      <th>...</th>\n",
       "      <td>...</td>\n",
       "      <td>...</td>\n",
       "      <td>...</td>\n",
       "      <td>...</td>\n",
       "      <td>...</td>\n",
       "      <td>...</td>\n",
       "      <td>...</td>\n",
       "    </tr>\n",
       "    <tr>\n",
       "      <th>1135</th>\n",
       "      <td>1255</td>\n",
       "      <td>1340455669443350528</td>\n",
       "      <td>@LaylaFanucci @realDonaldTrump I'm sorry but w...</td>\n",
       "      <td>1</td>\n",
       "      <td>1.0</td>\n",
       "      <td>0.0</td>\n",
       "      <td>0.0</td>\n",
       "    </tr>\n",
       "    <tr>\n",
       "      <th>1136</th>\n",
       "      <td>1256</td>\n",
       "      <td>1340689510569549824</td>\n",
       "      <td>Dear #NIN applicants, you can kindly download ...</td>\n",
       "      <td>0</td>\n",
       "      <td>0.0</td>\n",
       "      <td>0.0</td>\n",
       "      <td>0.0</td>\n",
       "    </tr>\n",
       "    <tr>\n",
       "      <th>1137</th>\n",
       "      <td>1258</td>\n",
       "      <td>1341155832793165825</td>\n",
       "      <td>Whats the uber support team email address?</td>\n",
       "      <td>0</td>\n",
       "      <td>0.0</td>\n",
       "      <td>0.0</td>\n",
       "      <td>0.0</td>\n",
       "    </tr>\n",
       "    <tr>\n",
       "      <th>1138</th>\n",
       "      <td>1259</td>\n",
       "      <td>1344167355648241664</td>\n",
       "      <td>House passes bill to increase stimulus checks ...</td>\n",
       "      <td>0</td>\n",
       "      <td>0.0</td>\n",
       "      <td>0.0</td>\n",
       "      <td>0.0</td>\n",
       "    </tr>\n",
       "    <tr>\n",
       "      <th>1139</th>\n",
       "      <td>1260</td>\n",
       "      <td>1344485313222041600</td>\n",
       "      <td>@berriemoomin #런쥔을_공평하게_대하세요 Renjun deserve be...</td>\n",
       "      <td>0</td>\n",
       "      <td>0.0</td>\n",
       "      <td>0.0</td>\n",
       "      <td>0.0</td>\n",
       "    </tr>\n",
       "  </tbody>\n",
       "</table>\n",
       "<p>1140 rows × 7 columns</p>\n",
       "</div>"
      ],
      "text/plain": [
       "      Unnamed: 0             tweet_id  \\\n",
       "0              0   316669998137483264   \n",
       "1              1   319090866545385472   \n",
       "2              2   322030931022065664   \n",
       "3              3   322694830620807168   \n",
       "4              4   328524426658328576   \n",
       "...          ...                  ...   \n",
       "1135        1255  1340455669443350528   \n",
       "1136        1256  1340689510569549824   \n",
       "1137        1258  1341155832793165825   \n",
       "1138        1259  1344167355648241664   \n",
       "1139        1260  1344485313222041600   \n",
       "\n",
       "                                                   text  science_related  \\\n",
       "0     Knees are a bit sore. i guess that's a sign th...                0   \n",
       "1             McDonald's breakfast stop then the gym 🏀💪                0   \n",
       "2     Can any Gynecologist with Cancer Experience ex...                1   \n",
       "3     Couch-lock highs lead to sleeping in the couch...                1   \n",
       "4     Does daily routine help prevent problems with ...                1   \n",
       "...                                                 ...              ...   \n",
       "1135  @LaylaFanucci @realDonaldTrump I'm sorry but w...                1   \n",
       "1136  Dear #NIN applicants, you can kindly download ...                0   \n",
       "1137         Whats the uber support team email address?                0   \n",
       "1138  House passes bill to increase stimulus checks ...                0   \n",
       "1139  @berriemoomin #런쥔을_공평하게_대하세요 Renjun deserve be...                0   \n",
       "\n",
       "      scientific_claim  scientific_reference  scientific_context  \n",
       "0                  0.0                   0.0                 0.0  \n",
       "1                  0.0                   0.0                 0.0  \n",
       "2                  1.0                   0.0                 0.0  \n",
       "3                  1.0                   0.0                 0.0  \n",
       "4                  1.0                   0.0                 0.0  \n",
       "...                ...                   ...                 ...  \n",
       "1135               1.0                   0.0                 0.0  \n",
       "1136               0.0                   0.0                 0.0  \n",
       "1137               0.0                   0.0                 0.0  \n",
       "1138               0.0                   0.0                 0.0  \n",
       "1139               0.0                   0.0                 0.0  \n",
       "\n",
       "[1140 rows x 7 columns]"
      ]
     },
     "execution_count": 27,
     "metadata": {},
     "output_type": "execute_result"
    }
   ],
   "source": [
    "df"
   ]
  },
  {
   "cell_type": "code",
   "execution_count": 102,
   "id": "91a7847d",
   "metadata": {},
   "outputs": [
    {
     "data": {
      "text/plain": [
       "0       0\n",
       "1       0\n",
       "2       1\n",
       "3       1\n",
       "4       1\n",
       "       ..\n",
       "1135    1\n",
       "1136    0\n",
       "1137    0\n",
       "1138    0\n",
       "1139    0\n",
       "Name: science_related, Length: 1140, dtype: int64"
      ]
     },
     "execution_count": 102,
     "metadata": {},
     "output_type": "execute_result"
    }
   ],
   "source": [
    "df[\"science_related\"]"
   ]
  },
  {
   "cell_type": "code",
   "execution_count": 159,
   "id": "54cffd6d",
   "metadata": {},
   "outputs": [],
   "source": [
    "data_vec = list(zip(X_transformed, df[\"science_related\"]))"
   ]
  },
  {
   "cell_type": "code",
   "execution_count": 160,
   "id": "3684a272",
   "metadata": {},
   "outputs": [
    {
     "data": {
      "text/html": [
       "<style>#sk-container-id-11 {color: black;}#sk-container-id-11 pre{padding: 0;}#sk-container-id-11 div.sk-toggleable {background-color: white;}#sk-container-id-11 label.sk-toggleable__label {cursor: pointer;display: block;width: 100%;margin-bottom: 0;padding: 0.3em;box-sizing: border-box;text-align: center;}#sk-container-id-11 label.sk-toggleable__label-arrow:before {content: \"▸\";float: left;margin-right: 0.25em;color: #696969;}#sk-container-id-11 label.sk-toggleable__label-arrow:hover:before {color: black;}#sk-container-id-11 div.sk-estimator:hover label.sk-toggleable__label-arrow:before {color: black;}#sk-container-id-11 div.sk-toggleable__content {max-height: 0;max-width: 0;overflow: hidden;text-align: left;background-color: #f0f8ff;}#sk-container-id-11 div.sk-toggleable__content pre {margin: 0.2em;color: black;border-radius: 0.25em;background-color: #f0f8ff;}#sk-container-id-11 input.sk-toggleable__control:checked~div.sk-toggleable__content {max-height: 200px;max-width: 100%;overflow: auto;}#sk-container-id-11 input.sk-toggleable__control:checked~label.sk-toggleable__label-arrow:before {content: \"▾\";}#sk-container-id-11 div.sk-estimator input.sk-toggleable__control:checked~label.sk-toggleable__label {background-color: #d4ebff;}#sk-container-id-11 div.sk-label input.sk-toggleable__control:checked~label.sk-toggleable__label {background-color: #d4ebff;}#sk-container-id-11 input.sk-hidden--visually {border: 0;clip: rect(1px 1px 1px 1px);clip: rect(1px, 1px, 1px, 1px);height: 1px;margin: -1px;overflow: hidden;padding: 0;position: absolute;width: 1px;}#sk-container-id-11 div.sk-estimator {font-family: monospace;background-color: #f0f8ff;border: 1px dotted black;border-radius: 0.25em;box-sizing: border-box;margin-bottom: 0.5em;}#sk-container-id-11 div.sk-estimator:hover {background-color: #d4ebff;}#sk-container-id-11 div.sk-parallel-item::after {content: \"\";width: 100%;border-bottom: 1px solid gray;flex-grow: 1;}#sk-container-id-11 div.sk-label:hover label.sk-toggleable__label {background-color: #d4ebff;}#sk-container-id-11 div.sk-serial::before {content: \"\";position: absolute;border-left: 1px solid gray;box-sizing: border-box;top: 0;bottom: 0;left: 50%;z-index: 0;}#sk-container-id-11 div.sk-serial {display: flex;flex-direction: column;align-items: center;background-color: white;padding-right: 0.2em;padding-left: 0.2em;position: relative;}#sk-container-id-11 div.sk-item {position: relative;z-index: 1;}#sk-container-id-11 div.sk-parallel {display: flex;align-items: stretch;justify-content: center;background-color: white;position: relative;}#sk-container-id-11 div.sk-item::before, #sk-container-id-11 div.sk-parallel-item::before {content: \"\";position: absolute;border-left: 1px solid gray;box-sizing: border-box;top: 0;bottom: 0;left: 50%;z-index: -1;}#sk-container-id-11 div.sk-parallel-item {display: flex;flex-direction: column;z-index: 1;position: relative;background-color: white;}#sk-container-id-11 div.sk-parallel-item:first-child::after {align-self: flex-end;width: 50%;}#sk-container-id-11 div.sk-parallel-item:last-child::after {align-self: flex-start;width: 50%;}#sk-container-id-11 div.sk-parallel-item:only-child::after {width: 0;}#sk-container-id-11 div.sk-dashed-wrapped {border: 1px dashed gray;margin: 0 0.4em 0.5em 0.4em;box-sizing: border-box;padding-bottom: 0.4em;background-color: white;}#sk-container-id-11 div.sk-label label {font-family: monospace;font-weight: bold;display: inline-block;line-height: 1.2em;}#sk-container-id-11 div.sk-label-container {text-align: center;}#sk-container-id-11 div.sk-container {/* jupyter's `normalize.less` sets `[hidden] { display: none; }` but bootstrap.min.css set `[hidden] { display: none !important; }` so we also need the `!important` here to be able to override the default hidden behavior on the sphinx rendered scikit-learn.org. See: https://github.com/scikit-learn/scikit-learn/issues/21755 */display: inline-block !important;position: relative;}#sk-container-id-11 div.sk-text-repr-fallback {display: none;}</style><div id=\"sk-container-id-11\" class=\"sk-top-container\"><div class=\"sk-text-repr-fallback\"><pre>SVC()</pre><b>In a Jupyter environment, please rerun this cell to show the HTML representation or trust the notebook. <br />On GitHub, the HTML representation is unable to render, please try loading this page with nbviewer.org.</b></div><div class=\"sk-container\" hidden><div class=\"sk-item\"><div class=\"sk-estimator sk-toggleable\"><input class=\"sk-toggleable__control sk-hidden--visually\" id=\"sk-estimator-id-11\" type=\"checkbox\" checked><label for=\"sk-estimator-id-11\" class=\"sk-toggleable__label sk-toggleable__label-arrow\">SVC</label><div class=\"sk-toggleable__content\"><pre>SVC()</pre></div></div></div></div></div>"
      ],
      "text/plain": [
       "SVC()"
      ]
     },
     "execution_count": 160,
     "metadata": {},
     "output_type": "execute_result"
    }
   ],
   "source": [
    "random.shuffle(data_vec)\n",
    "\n",
    "train_quantity  = 0.8\n",
    "\n",
    "train_data = data_vec[0:int(len(data_vec)*0.8)]\n",
    "test_data = data_vec[int(len(data_vec)*0.8)::]\n",
    "\n",
    "x = [val[0] for val in data_vec]\n",
    "y = [val[1] for val in data_vec]\n",
    "\n",
    "x_train = [val[0] for val in train_data]\n",
    "y_train = [val[1] for val in train_data]\n",
    "\n",
    "\n",
    "x_test = [val[0] for val in test_data]\n",
    "y_test = [val[1] for val in test_data]\n",
    "\n",
    "\n",
    "clf = RandomForestClassifier(n_estimators=100)\n",
    "clf.fit(x_train, y_train)\n",
    "\n",
    "# SVM\n",
    "svm = SVC(kernel=\"rbf\")\n",
    "svm.fit(x_train, y_train)"
   ]
  },
  {
   "cell_type": "code",
   "execution_count": 162,
   "id": "0a48858f",
   "metadata": {},
   "outputs": [
    {
     "data": {
      "text/plain": [
       "1140"
      ]
     },
     "execution_count": 162,
     "metadata": {},
     "output_type": "execute_result"
    }
   ],
   "source": [
    "len(x)"
   ]
  },
  {
   "cell_type": "code",
   "execution_count": 163,
   "id": "577380d7",
   "metadata": {},
   "outputs": [
    {
     "data": {
      "text/plain": [
       "array([0.6754386 , 0.6754386 , 0.6754386 , 0.6754386 , 0.6754386 ,\n",
       "       0.66666667, 0.66666667, 0.66666667, 0.66666667, 0.66666667])"
      ]
     },
     "execution_count": 163,
     "metadata": {},
     "output_type": "execute_result"
    }
   ],
   "source": [
    "scores = cross_val_score(svm, x, y, scoring='accuracy', cv=10, n_jobs=-1)\n",
    "scores"
   ]
  },
  {
   "cell_type": "code",
   "execution_count": 154,
   "id": "f17f4cad",
   "metadata": {},
   "outputs": [],
   "source": [
    "y_pred_rf = clf.predict(x_test)\n",
    "\n",
    "# Prédictions avec SVM\n",
    "y_pred_svm = svm.predict(x_test)"
   ]
  },
  {
   "cell_type": "code",
   "execution_count": 153,
   "id": "2155a3aa",
   "metadata": {},
   "outputs": [
    {
     "name": "stdout",
     "output_type": "stream",
     "text": [
      "Performance du Random Forest:\n",
      "              precision    recall  f1-score   support\n",
      "\n",
      "           0       0.68      0.98      0.81       156\n",
      "           1       0.25      0.01      0.03        72\n",
      "\n",
      "    accuracy                           0.68       228\n",
      "   macro avg       0.47      0.50      0.42       228\n",
      "weighted avg       0.55      0.68      0.56       228\n",
      "\n",
      "Accuracy: 0.6754385964912281\n",
      "\n",
      "Performance du SVM:\n",
      "              precision    recall  f1-score   support\n",
      "\n",
      "           0       0.68      1.00      0.81       156\n",
      "           1       0.00      0.00      0.00        72\n",
      "\n",
      "    accuracy                           0.68       228\n",
      "   macro avg       0.34      0.50      0.41       228\n",
      "weighted avg       0.47      0.68      0.56       228\n",
      "\n",
      "Accuracy: 0.6842105263157895\n"
     ]
    },
    {
     "name": "stderr",
     "output_type": "stream",
     "text": [
      "/home/cm/.local/lib/python3.8/site-packages/sklearn/metrics/_classification.py:1471: UndefinedMetricWarning: Precision and F-score are ill-defined and being set to 0.0 in labels with no predicted samples. Use `zero_division` parameter to control this behavior.\n",
      "  _warn_prf(average, modifier, msg_start, len(result))\n",
      "/home/cm/.local/lib/python3.8/site-packages/sklearn/metrics/_classification.py:1471: UndefinedMetricWarning: Precision and F-score are ill-defined and being set to 0.0 in labels with no predicted samples. Use `zero_division` parameter to control this behavior.\n",
      "  _warn_prf(average, modifier, msg_start, len(result))\n",
      "/home/cm/.local/lib/python3.8/site-packages/sklearn/metrics/_classification.py:1471: UndefinedMetricWarning: Precision and F-score are ill-defined and being set to 0.0 in labels with no predicted samples. Use `zero_division` parameter to control this behavior.\n",
      "  _warn_prf(average, modifier, msg_start, len(result))\n"
     ]
    }
   ],
   "source": [
    "# Évaluation Random Forest\n",
    "print(\"Performance du Random Forest:\")\n",
    "print(classification_report(y_test, y_pred_rf))\n",
    "print(\"Accuracy:\", accuracy_score(y_test, y_pred_rf))\n",
    "\n",
    "# Évaluation SVM\n",
    "print(\"\\nPerformance du SVM:\")\n",
    "print(classification_report(y_test, y_pred_svm))\n",
    "print(\"Accuracy:\", accuracy_score(y_test, y_pred_svm))"
   ]
  },
  {
   "cell_type": "code",
   "execution_count": null,
   "id": "1cfc47ca",
   "metadata": {},
   "outputs": [],
   "source": []
  },
  {
   "cell_type": "code",
   "execution_count": null,
   "id": "0ac0d2bd",
   "metadata": {},
   "outputs": [],
   "source": []
  },
  {
   "cell_type": "code",
   "execution_count": 56,
   "id": "c6f88991",
   "metadata": {},
   "outputs": [
    {
     "name": "stderr",
     "output_type": "stream",
     "text": [
      "2025-03-24 10:54:59.100599: W tensorflow/stream_executor/platform/default/dso_loader.cc:64] Could not load dynamic library 'libcudart.so.11.0'; dlerror: libcudart.so.11.0: cannot open shared object file: No such file or directory\n",
      "2025-03-24 10:54:59.100641: I tensorflow/stream_executor/cuda/cudart_stub.cc:29] Ignore above cudart dlerror if you do not have a GPU set up on your machine.\n",
      "2025-03-24 10:55:02.356933: W tensorflow/stream_executor/platform/default/dso_loader.cc:64] Could not load dynamic library 'libcuda.so.1'; dlerror: libcuda.so.1: cannot open shared object file: No such file or directory\n",
      "2025-03-24 10:55:02.356968: W tensorflow/stream_executor/cuda/cuda_driver.cc:269] failed call to cuInit: UNKNOWN ERROR (303)\n",
      "2025-03-24 10:55:02.357008: I tensorflow/stream_executor/cuda/cuda_diagnostics.cc:156] kernel driver does not appear to be running on this host (pc): /proc/driver/nvidia/version does not exist\n",
      "2025-03-24 10:55:02.357472: I tensorflow/core/platform/cpu_feature_guard.cc:151] This TensorFlow binary is optimized with oneAPI Deep Neural Network Library (oneDNN) to use the following CPU instructions in performance-critical operations:  AVX2 FMA\n",
      "To enable them in other operations, rebuild TensorFlow with the appropriate compiler flags.\n",
      "2025-03-24 10:55:03.713033: W tensorflow/core/framework/cpu_allocator_impl.cc:82] Allocation of 14592000 exceeds 10% of free system memory.\n"
     ]
    },
    {
     "name": "stdout",
     "output_type": "stream",
     "text": [
      "Epoch 1/10\n",
      "57/57 [==============================] - 7s 55ms/step - loss: 0.6387 - accuracy: 0.6689 - val_loss: 0.6756 - val_accuracy: 0.6535\n",
      "Epoch 2/10\n",
      "57/57 [==============================] - 1s 26ms/step - loss: 0.6315 - accuracy: 0.6754 - val_loss: 0.6541 - val_accuracy: 0.6535\n",
      "Epoch 3/10\n",
      "57/57 [==============================] - 1s 26ms/step - loss: 0.6321 - accuracy: 0.6754 - val_loss: 0.6490 - val_accuracy: 0.6535\n",
      "Epoch 4/10\n",
      "57/57 [==============================] - 1s 26ms/step - loss: 0.6296 - accuracy: 0.6754 - val_loss: 0.6476 - val_accuracy: 0.6535\n",
      "Epoch 5/10\n",
      "57/57 [==============================] - 1s 26ms/step - loss: 0.6279 - accuracy: 0.6754 - val_loss: 0.6453 - val_accuracy: 0.6535\n",
      "Epoch 6/10\n",
      "57/57 [==============================] - 1s 26ms/step - loss: 0.6293 - accuracy: 0.6754 - val_loss: 0.6489 - val_accuracy: 0.6535\n",
      "Epoch 7/10\n",
      "57/57 [==============================] - 2s 27ms/step - loss: 0.6295 - accuracy: 0.6754 - val_loss: 0.6504 - val_accuracy: 0.6535\n",
      "Epoch 8/10\n",
      "57/57 [==============================] - 1s 26ms/step - loss: 0.6287 - accuracy: 0.6754 - val_loss: 0.6512 - val_accuracy: 0.6535\n",
      "Epoch 9/10\n",
      "57/57 [==============================] - 1s 26ms/step - loss: 0.6290 - accuracy: 0.6754 - val_loss: 0.6499 - val_accuracy: 0.6535\n",
      "Epoch 10/10\n",
      "57/57 [==============================] - 1s 26ms/step - loss: 0.6290 - accuracy: 0.6754 - val_loss: 0.6479 - val_accuracy: 0.6535\n"
     ]
    },
    {
     "data": {
      "text/plain": [
       "<keras.callbacks.History at 0x7f1284157790>"
      ]
     },
     "execution_count": 56,
     "metadata": {},
     "output_type": "execute_result"
    }
   ],
   "source": [
    "import numpy as np\n",
    "import tensorflow as tf\n",
    "from tensorflow.keras.models import Sequential\n",
    "from tensorflow.keras.layers import LSTM, Dense, Embedding, Masking\n",
    "\n",
    "# Convertir chaque phrase en une séquence de vecteurs Word2Vec\n",
    "def vectorize_sentence(sentence, model, max_length=20):\n",
    "    words = sentence\n",
    "    word_vectors = [model.wv[word] for word in words if word in model.wv]\n",
    "    \n",
    "    # Padding avec des zéros si la phrase est trop courte\n",
    "    while len(word_vectors) < max_length:\n",
    "        word_vectors.append(np.zeros(model.vector_size))\n",
    "    \n",
    "    # Troncature si trop long\n",
    "    return np.array(word_vectors[:max_length])\n",
    "\n",
    "word_model = []\n",
    "for sentence in refined_tweets:\n",
    "    a = vectorize_sentence(sentence, model)\n",
    "    word_model.append(a)\n",
    "\n",
    "# Créer les données sous forme de séquences de vecteurs\n",
    "#X = np.array([vectorize_sentence(text, word2vec_model) for text in df[\"text\"]])\n",
    "X = np.array(word_model)\n",
    "\n",
    "y = df[\"science_related\"].values\n",
    "\n",
    "# Définir le modèle LSTM\n",
    "model = Sequential([\n",
    "    Masking(mask_value=0.0, input_shape=(20, model.vector_size)),  # Ignorer les zéros\n",
    "    LSTM(128, return_sequences=False),\n",
    "    Dense(64, activation=\"relu\"),\n",
    "    Dense(1, activation=\"sigmoid\")  # Classification binaire\n",
    "])\n",
    "\n",
    "# Compilation et entraînement\n",
    "model.compile(optimizer=\"adam\", loss=\"binary_crossentropy\", metrics=[\"accuracy\"])\n",
    "model.fit(X, y, epochs=10, batch_size=16, validation_split=0.2)\n"
   ]
  },
  {
   "cell_type": "code",
   "execution_count": null,
   "id": "7023fc3a",
   "metadata": {},
   "outputs": [],
   "source": []
  }
 ],
 "metadata": {
  "kernelspec": {
   "display_name": "Python 3 (ipykernel)",
   "language": "python",
   "name": "python3"
  },
  "language_info": {
   "codemirror_mode": {
    "name": "ipython",
    "version": 3
   },
   "file_extension": ".py",
   "mimetype": "text/x-python",
   "name": "python",
   "nbconvert_exporter": "python",
   "pygments_lexer": "ipython3",
   "version": "3.8.10"
  }
 },
 "nbformat": 4,
 "nbformat_minor": 5
}
