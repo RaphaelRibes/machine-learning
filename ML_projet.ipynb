{
 "cells": [
  {
   "cell_type": "markdown",
   "id": "be9258fe",
   "metadata": {},
   "source": [
    "# ML projet - Groupe 3"
   ]
  },
  {
   "cell_type": "code",
   "execution_count": null,
   "id": "33b691a8",
   "metadata": {},
   "outputs": [],
   "source": []
  },
  {
   "cell_type": "code",
   "execution_count": null,
   "id": "176f2932",
   "metadata": {},
   "outputs": [],
   "source": []
  },
  {
   "cell_type": "markdown",
   "id": "5c7e69b8",
   "metadata": {},
   "source": [
    "# Pretraitement"
   ]
  },
  {
   "cell_type": "code",
   "execution_count": 33,
   "id": "7e670a9b",
   "metadata": {},
   "outputs": [],
   "source": [
    "import pandas as pd\n",
    "from gensim.models import Word2Vec\n",
    "import nltk\n",
    "import re\n",
    "from nltk import word_tokenize, pos_tag\n",
    "from nltk.corpus import words\n",
    "from nltk.stem import WordNetLemmatizer\n",
    "from nltk.corpus import wordnet\n",
    "import enchant\n",
    "\n",
    "#nltk.download('punkt_tab')\n",
    "#nltk.download(\"words\")\n",
    "#nltk.download('wordnet')\n",
    "#nltk.download('averaged_perceptron_tagger_eng')"
   ]
  },
  {
   "cell_type": "code",
   "execution_count": 34,
   "id": "8b05a6f0",
   "metadata": {},
   "outputs": [],
   "source": [
    "df = pd.read_csv(\"scitweets_export.tsv\", sep = \"\\t\")"
   ]
  },
  {
   "cell_type": "code",
   "execution_count": 35,
   "id": "01c83bfe",
   "metadata": {},
   "outputs": [
    {
     "data": {
      "text/plain": [
       "0.6710526315789473"
      ]
     },
     "execution_count": 35,
     "metadata": {},
     "output_type": "execute_result"
    }
   ],
   "source": [
    "len(df[df[\"science_related\"] == 0])/(len(df))"
   ]
  },
  {
   "cell_type": "code",
   "execution_count": 36,
   "id": "2edcfabb",
   "metadata": {},
   "outputs": [],
   "source": [
    "#df[df[\"tweet_id\"].duplicated()]"
   ]
  },
  {
   "cell_type": "code",
   "execution_count": 37,
   "id": "96175804",
   "metadata": {},
   "outputs": [],
   "source": [
    "#df[df[\"text\"].duplicated()]"
   ]
  },
  {
   "cell_type": "code",
   "execution_count": 38,
   "id": "9f133967",
   "metadata": {},
   "outputs": [],
   "source": [
    "#df[df[\"science_related\"] == 0]"
   ]
  },
  {
   "cell_type": "code",
   "execution_count": null,
   "id": "3db5f598",
   "metadata": {},
   "outputs": [],
   "source": []
  },
  {
   "cell_type": "markdown",
   "id": "706f152b",
   "metadata": {},
   "source": [
    "### Enlever (.,\\\\@#:';\"“”’[]), les chiffres et les liens (http) de chaque tweet"
   ]
  },
  {
   "cell_type": "code",
   "execution_count": 39,
   "id": "b1c68b92",
   "metadata": {},
   "outputs": [],
   "source": [
    "text = []\n",
    "all_text = list(df[\"text\"])\n",
    "for t in all_text:\n",
    "    a = re.sub(\"[\\.,/\\\\@:;\\\"\\'0-9“”’\\[\\]]\", \"\", t)\n",
    "    a = re.sub(\"http\\S*\", \"\", a) #Enlever les liens\n",
    "    a = re.sub(\"#\\S*\", \"\", a) #Enlever les tags\n",
    "    a = a.lower()\n",
    "    text.append(a)\n",
    "#for sentence in text:  "
   ]
  },
  {
   "cell_type": "code",
   "execution_count": 40,
   "id": "2fb8b030",
   "metadata": {},
   "outputs": [],
   "source": [
    "#text"
   ]
  },
  {
   "cell_type": "code",
   "execution_count": 41,
   "id": "d983e1ba",
   "metadata": {},
   "outputs": [],
   "source": [
    "#Créer une liste des phrases ou chaque phrase est une liste de mots.\n",
    "text_sep = [word_tokenize(t) for t in text]"
   ]
  },
  {
   "cell_type": "code",
   "execution_count": 42,
   "id": "9bb06303",
   "metadata": {},
   "outputs": [],
   "source": [
    "#text_sep"
   ]
  },
  {
   "cell_type": "markdown",
   "id": "d9c733d5",
   "metadata": {},
   "source": [
    "## Standardizer chaque phrases. \n",
    "- Convertir les noms pluriels en leur forme singuliers\n",
    "- Convertir les conjugaison de chaque verbe en leur infinitif\n",
    "- Standardiser les ajectives et les adverbes"
   ]
  },
  {
   "cell_type": "code",
   "execution_count": 43,
   "id": "777d5064",
   "metadata": {},
   "outputs": [],
   "source": [
    "def get_wordnet_pos(tag):\n",
    "    if tag.startswith('J'):  # Adjectif\n",
    "        return wordnet.ADJ\n",
    "    elif tag.startswith('V'):  # Verbe\n",
    "        return wordnet.VERB\n",
    "    elif tag.startswith('N'):  # Nom\n",
    "        return wordnet.NOUN\n",
    "    elif tag.startswith('R'):  # Adverbe\n",
    "        return wordnet.ADV\n",
    "    else:\n",
    "        return wordnet.NOUN \n",
    "\n",
    "    \n",
    "lemmatizer = WordNetLemmatizer()\n",
    "refined_tweets = []\n",
    "for tweet in text_sep:\n",
    "    pos_tags = pos_tag(tweet)\n",
    "    lemmatized_words = [lemmatizer.lemmatize(word, get_wordnet_pos(tag)) for word, tag in pos_tags]\n",
    "    refined_tweets.append(lemmatized_words)\n",
    "\n"
   ]
  },
  {
   "cell_type": "code",
   "execution_count": 44,
   "id": "01c24f42",
   "metadata": {},
   "outputs": [],
   "source": [
    "ind = 640\n",
    "#print(text_sep[ind])\n",
    "#print(refined_tweets[ind])"
   ]
  },
  {
   "cell_type": "markdown",
   "id": "e6678443",
   "metadata": {},
   "source": [
    "### Le code desous montre que 70% de mots dans les tweet sont valide (dans les dictionnaire anglais)"
   ]
  },
  {
   "cell_type": "code",
   "execution_count": null,
   "id": "fca16365",
   "metadata": {},
   "outputs": [],
   "source": []
  },
  {
   "cell_type": "code",
   "execution_count": 45,
   "id": "f1e05883",
   "metadata": {},
   "outputs": [
    {
     "name": "stdout",
     "output_type": "stream",
     "text": [
      "0.7057108557708798\n"
     ]
    }
   ],
   "source": [
    "valid_words = []\n",
    "invalid_words = []\n",
    "\n",
    "d = enchant.Dict(\"en_US\")\n",
    "\n",
    "#Trouver tous les mots qui sont dans la dictionnaiore anglais \n",
    "for sentence in refined_tweets:\n",
    "    for w in sentence:\n",
    "        if w not in valid_words:\n",
    "            if d.check(w):\n",
    "                valid_words.append(w)\n",
    "            if d.check(w.capitalize()) and w not in valid_words:\n",
    "                valid_words.append(w)\n",
    "                \n",
    "            \n",
    "total_words = []\n",
    "for sentence in refined_tweets:\n",
    "    for w in sentence:\n",
    "        if w not in total_words:\n",
    "            total_words.append(w)\n",
    "\n",
    "            \n",
    "print(len(valid_words)/len(total_words))\n"
   ]
  },
  {
   "cell_type": "code",
   "execution_count": 46,
   "id": "ead7bac5",
   "metadata": {},
   "outputs": [],
   "source": [
    "invalid_words = []\n",
    "for sentence in refined_tweets:\n",
    "    for w in sentence:\n",
    "        if w not in invalid_words:\n",
    "            if w not in valid_words:\n",
    "                invalid_words.append(w)\n",
    "#invalid_words"
   ]
  },
  {
   "cell_type": "code",
   "execution_count": null,
   "id": "7d963776",
   "metadata": {},
   "outputs": [],
   "source": []
  },
  {
   "cell_type": "markdown",
   "id": "f1104208",
   "metadata": {},
   "source": [
    "### Vectoriser les mots"
   ]
  },
  {
   "cell_type": "code",
   "execution_count": 48,
   "id": "6c2fcd5e",
   "metadata": {},
   "outputs": [],
   "source": [
    "model = Word2Vec(refined_tweets, vector_size = 200, window = 2, min_count = 0, workers = 4)"
   ]
  },
  {
   "cell_type": "code",
   "execution_count": 49,
   "id": "101d4ffe",
   "metadata": {},
   "outputs": [
    {
     "data": {
      "text/plain": [
       "array([ 1.14255445e-03, -1.61119050e-03, -1.41837390e-03,  3.42491479e-03,\n",
       "        1.13822361e-02, -1.25815405e-03,  1.89015525e-03,  2.12700814e-02,\n",
       "       -2.44117714e-03,  4.23940411e-03, -2.70634028e-03, -4.91850823e-03,\n",
       "        6.38018455e-03,  7.86870997e-03, -4.59962850e-03, -3.72354261e-04,\n",
       "       -1.49839465e-03,  5.13493223e-03,  5.39186224e-03, -1.05113965e-02,\n",
       "        8.21312424e-03, -1.10082084e-03,  9.88406246e-04, -3.41620459e-03,\n",
       "        1.58569671e-03, -8.56285263e-03,  2.66132574e-03, -3.73570039e-03,\n",
       "       -1.04353353e-02, -3.10109439e-03,  9.01723653e-03,  1.33899297e-03,\n",
       "        5.38798235e-03, -2.25112541e-03,  1.87710626e-03,  6.74281362e-03,\n",
       "        3.86751909e-03,  3.90663696e-03,  2.48991163e-03, -8.87915865e-03,\n",
       "       -2.43932521e-03, -3.17847589e-03, -3.72511242e-03, -1.61992991e-03,\n",
       "        8.41878634e-03, -1.03804225e-03, -5.67010231e-03, -3.08961887e-03,\n",
       "        4.98298206e-04,  1.16749713e-02,  3.04161245e-03, -3.51572828e-03,\n",
       "       -6.89601433e-03, -5.72373252e-03, -4.87133773e-04, -3.08051845e-03,\n",
       "       -2.76603922e-03, -8.52220599e-03, -8.24638177e-03,  1.48704508e-03,\n",
       "       -2.76783627e-04, -2.65581440e-03,  3.89383733e-03,  4.72341431e-03,\n",
       "       -2.04598270e-02,  4.64583095e-03,  5.40582929e-04,  1.11501133e-02,\n",
       "       -9.92099103e-03,  1.14068724e-02,  7.19037256e-04,  6.83536474e-03,\n",
       "        6.73720241e-03, -1.06002821e-03,  6.84434548e-03, -2.10521789e-03,\n",
       "        7.97908381e-03, -9.78265423e-03, -1.40108466e-02,  5.02214185e-04,\n",
       "       -7.28127267e-03, -1.43081968e-04, -1.07590053e-02,  8.49521440e-03,\n",
       "       -9.95676219e-03, -4.10309294e-03,  5.19887405e-03,  1.70922081e-03,\n",
       "        4.75073978e-03,  1.53643859e-03,  2.03452329e-03,  1.72707753e-03,\n",
       "        8.87274928e-03,  9.97210480e-03,  1.67190172e-02,  1.07087893e-02,\n",
       "        5.33135515e-03, -7.92690646e-03,  4.51753102e-03,  4.58580675e-03,\n",
       "       -1.22600468e-02,  9.51880962e-03,  1.01680635e-02, -3.05759348e-03,\n",
       "       -6.08803798e-03, -1.46003626e-02,  3.01592797e-03,  1.40213966e-02,\n",
       "       -8.29670951e-03, -1.39443483e-02, -3.22669442e-03, -1.50451679e-02,\n",
       "        7.03755184e-04, -3.63851577e-04,  3.35841975e-03, -4.83968179e-04,\n",
       "        1.02446752e-03, -1.76510233e-02, -2.55029416e-03, -8.70321784e-03,\n",
       "        3.93183902e-03,  1.37703810e-02,  4.66351537e-03, -1.17074307e-02,\n",
       "       -4.29791212e-03,  9.89124551e-03, -8.29342008e-03, -7.14393379e-03,\n",
       "       -5.62230870e-03,  7.46038859e-04,  4.13842127e-03, -8.51492339e-04,\n",
       "       -3.36008379e-04, -5.01605542e-03, -4.98329336e-03,  1.33427903e-02,\n",
       "       -6.61471067e-03, -7.25908787e-04,  2.63811136e-03, -8.87062773e-03,\n",
       "        1.05682760e-02, -6.42381515e-03, -7.78925978e-03, -3.48336791e-04,\n",
       "        8.47891133e-05, -7.11245509e-03, -8.93491693e-03,  6.75774133e-03,\n",
       "       -3.31010902e-03,  6.34418800e-04,  5.12980297e-03, -6.02381723e-03,\n",
       "        7.77362904e-04,  1.12323056e-03, -1.15723815e-02,  1.19037209e-02,\n",
       "        1.00759547e-02,  6.77855732e-03, -1.21229084e-03,  4.27025557e-03,\n",
       "        2.35437253e-03,  8.00849311e-03, -6.25162284e-05,  1.53498797e-04,\n",
       "       -3.24927503e-03,  1.46526378e-03,  7.54597271e-03, -8.83176457e-03,\n",
       "        8.60839384e-04, -7.37145252e-04, -9.20794439e-03,  2.47694133e-03,\n",
       "       -2.15534936e-03, -9.25513450e-03,  1.36154862e-02,  1.31796277e-03,\n",
       "       -6.62354985e-03,  5.43690985e-03,  1.62552716e-03,  4.94516827e-03,\n",
       "        1.82319188e-03,  9.00902227e-03, -1.48184819e-03,  5.34091494e-04,\n",
       "        1.38668902e-03,  2.21707323e-03, -5.01340302e-03,  9.87910386e-03,\n",
       "        1.72101483e-02,  4.29273257e-03,  1.32677853e-02, -2.14053434e-03,\n",
       "       -1.68081431e-03, -2.96218717e-03,  5.11812139e-03,  4.70991991e-03,\n",
       "       -7.51872081e-04, -7.41447555e-03,  5.08058816e-03, -2.09957710e-03],\n",
       "      dtype=float32)"
      ]
     },
     "execution_count": 49,
     "metadata": {},
     "output_type": "execute_result"
    }
   ],
   "source": [
    "(model.wv[\"science\"])"
   ]
  },
  {
   "cell_type": "code",
   "execution_count": null,
   "id": "c6f88991",
   "metadata": {},
   "outputs": [],
   "source": []
  },
  {
   "cell_type": "code",
   "execution_count": null,
   "id": "7023fc3a",
   "metadata": {},
   "outputs": [],
   "source": []
  }
 ],
 "metadata": {
  "kernelspec": {
   "display_name": "Python 3 (ipykernel)",
   "language": "python",
   "name": "python3"
  },
  "language_info": {
   "codemirror_mode": {
    "name": "ipython",
    "version": 3
   },
   "file_extension": ".py",
   "mimetype": "text/x-python",
   "name": "python",
   "nbconvert_exporter": "python",
   "pygments_lexer": "ipython3",
   "version": "3.8.10"
  }
 },
 "nbformat": 4,
 "nbformat_minor": 5
}
